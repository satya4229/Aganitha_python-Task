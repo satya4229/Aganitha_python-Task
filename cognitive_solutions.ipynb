{
  "nbformat": 4,
  "nbformat_minor": 0,
  "metadata": {
    "colab": {
      "provenance": [],
      "authorship_tag": "ABX9TyPelZO7YftHir1DCmwI1Nqg",
      "include_colab_link": true
    },
    "kernelspec": {
      "name": "python3",
      "display_name": "Python 3"
    },
    "language_info": {
      "name": "python"
    }
  },
  "cells": [
    {
      "cell_type": "markdown",
      "metadata": {
        "id": "view-in-github",
        "colab_type": "text"
      },
      "source": [
        "<a href=\"https://colab.research.google.com/github/satya4229/Aganitha_python-Task/blob/main/cognitive_solutions.ipynb\" target=\"_parent\"><img src=\"https://colab.research.google.com/assets/colab-badge.svg\" alt=\"Open In Colab\"/></a>"
      ]
    },
    {
      "cell_type": "code",
      "source": [
        "import requests\n",
        "import json\n",
        "\n",
        "def fetch_papers(query):\n",
        "    base_url = \"https://api.semanticscholar.org/graph/v1/paper/search\"\n",
        "    params = {\n",
        "        \"query\": query,\n",
        "        \"limit\": 5,  # Fetching 5 papers\n",
        "        \"fields\": \"title,authors,venue,year,url\"\n",
        "    }\n",
        "\n",
        "    try:\n",
        "        response = requests.get(base_url, params=params, timeout=10)\n",
        "        print(f\"Status Code: {response.status_code}\\n\")\n",
        "\n",
        "        if response.status_code == 200:\n",
        "            data = response.json()\n",
        "\n",
        "            if \"data\" in data and data[\"data\"]:  # Ensure papers exist\n",
        "                papers = []\n",
        "\n",
        "                for paper in data[\"data\"][:3]:  # Get first 3 papers\n",
        "                    title = paper.get(\"title\", \"N/A\")\n",
        "                    venue = paper.get(\"venue\", \"N/A\")\n",
        "                    year = paper.get(\"year\", \"N/A\")\n",
        "                    url = paper.get(\"url\", \"N/A\")\n",
        "\n",
        "                    authors = paper.get(\"authors\", [])\n",
        "                    author_names = [author.get(\"name\", \"N/A\") for author in authors]\n",
        "\n",
        "                    papers.append({\n",
        "                        \"title\": title,\n",
        "                        \"authors\": author_names,\n",
        "                        \"venue\": venue,\n",
        "                        \"year\": year,\n",
        "                        \"url\": url\n",
        "                    })\n",
        "\n",
        "                print(\"First 3 Papers:\\n\")\n",
        "                print(json.dumps(papers, indent=4))  # Pretty print JSON output\n",
        "\n",
        "            else:\n",
        "                print(\"No papers found for this query.\")\n",
        "\n",
        "        else:\n",
        "            print(f\"Error {response.status_code}: {response.text}\")\n",
        "\n",
        "    except requests.exceptions.RequestException as e:\n",
        "        print(f\"Request error: {e}\")\n",
        "\n",
        "# Example Query\n",
        "query = input(\"Enter a query:\")\n",
        "fetch_papers(query)"
      ],
      "metadata": {
        "colab": {
          "base_uri": "https://localhost:8080/"
        },
        "id": "mVzVxDA20j2j",
        "outputId": "4c527a9b-05ab-450e-afb7-ca65011be847"
      },
      "execution_count": 6,
      "outputs": [
        {
          "output_type": "stream",
          "name": "stdout",
          "text": [
            "Enter a query:covid-19 vaccine development\n",
            "Status Code: 200\n",
            "\n",
            "First 3 Papers:\n",
            "\n",
            "[\n",
            "    {\n",
            "        \"title\": \"The COVID-19 vaccine development landscape\",\n",
            "        \"authors\": [\n",
            "            \"Tung Thanh Le\",\n",
            "            \"Zacharias E. Andreadakis\",\n",
            "            \"Arun Kumar\",\n",
            "            \"Ra\\u00fal G\\u00f3mez Rom\\u00e1n\",\n",
            "            \"S. Tollefsen\",\n",
            "            \"M. Saville\",\n",
            "            \"Stephen Mayhew\"\n",
            "        ],\n",
            "        \"venue\": \"Nature reviews. Drug discovery\",\n",
            "        \"year\": 2020,\n",
            "        \"url\": \"https://www.semanticscholar.org/paper/6fff99ca6d9637ffc706b3a68a500f8b492de34d\"\n",
            "    },\n",
            "    {\n",
            "        \"title\": \"Rapid COVID-19 vaccine development\",\n",
            "        \"authors\": [\n",
            "            \"B. Graham\"\n",
            "        ],\n",
            "        \"venue\": \"Science\",\n",
            "        \"year\": 2020,\n",
            "        \"url\": \"https://www.semanticscholar.org/paper/e8be42f7d6a567cbd81a1a3ec6ce1259685f404e\"\n",
            "    },\n",
            "    {\n",
            "        \"title\": \"COVID-19 vaccine development and a potential nanomaterial path forward\",\n",
            "        \"authors\": [\n",
            "            \"Matthew D. Shin\",\n",
            "            \"Sourabh Shukla\",\n",
            "            \"Y. Chung\",\n",
            "            \"V. Beiss\",\n",
            "            \"S. Chan\",\n",
            "            \"Oscar A. Ortega-Rivera\",\n",
            "            \"David M. Wirth\",\n",
            "            \"Angela Chen\",\n",
            "            \"M. Sack\",\n",
            "            \"J. Pokorski\",\n",
            "            \"N. Steinmetz\"\n",
            "        ],\n",
            "        \"venue\": \"Nature Nanotechnology\",\n",
            "        \"year\": 2020,\n",
            "        \"url\": \"https://www.semanticscholar.org/paper/dc8ad42441b38881b501ba6e035f723500163443\"\n",
            "    }\n",
            "]\n"
          ]
        }
      ]
    }
  ]
}